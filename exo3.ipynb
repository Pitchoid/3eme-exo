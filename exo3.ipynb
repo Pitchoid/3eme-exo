{
 "cells": [
  {
   "cell_type": "code",
   "execution_count": 2,
   "id": "142832ec",
   "metadata": {},
   "outputs": [
    {
     "name": "stdout",
     "output_type": "stream",
     "text": [
      "36\n"
     ]
    }
   ],
   "source": [
    "noumrou=[2,3,6]\n",
    "r=1\n",
    "for i in noumrou:\n",
    "  r=i*r\n",
    "print(r)"
   ]
  },
  {
   "cell_type": "code",
   "execution_count": 7,
   "id": "fa999f63",
   "metadata": {},
   "outputs": [
    {
     "name": "stdout",
     "output_type": "stream",
     "text": [
      "[(2, 5), (1, 2), (4, 4), (2, 3), (2, 1)]\n"
     ]
    }
   ],
   "source": [
    " varum=[(2, 5), (1, 2), (4, 4), (2, 3), (2, 1)]\n",
    " varum.sort\n",
    " print(varum)"
   ]
  },
  {
   "cell_type": "code",
   "execution_count": 8,
   "id": "4e5ca289",
   "metadata": {},
   "outputs": [
    {
     "name": "stdout",
     "output_type": "stream",
     "text": [
      "{'a': 400, 'b': 400, 'c': 300, 'd': 400}\n"
     ]
    }
   ],
   "source": [
    "#Expected result: {'a': 400, 'b': 400, 'd': 400, 'c': 300}\n",
    "\n",
    "d1 = {'a': 100, 'b': 200, 'c':300}\n",
    "d2 = {'a': 300, 'b': 200, 'd':400}\n",
    "d3 = {}\n",
    "for i in d1:\n",
    "  if i in d2:\n",
    "    d3[i]=d1[i]+d2[i]\n",
    "  else:\n",
    "      d3[i]=d1[i]\n",
    "for i in d2:\n",
    "   if i not in d1:\n",
    "    d3[i]=d2[i]\n",
    "print(d3)"
   ]
  },
  {
   "cell_type": "code",
   "execution_count": 9,
   "id": "a78cc7c6",
   "metadata": {},
   "outputs": [
    {
     "name": "stdout",
     "output_type": "stream",
     "text": [
      "{1: 1, 2: 4, 3: 9, 4: 16, 5: 25, 6: 36, 7: 49, 8: 64}\n"
     ]
    }
   ],
   "source": [
    "n = 8\n",
    "ndict = {}\n",
    "for i in range(1, n+1):\n",
    "    ndict[i] = i*i\n",
    "print(ndict)"
   ]
  },
  {
   "cell_type": "code",
   "execution_count": 10,
   "id": "33943fd9",
   "metadata": {},
   "outputs": [
    {
     "name": "stdout",
     "output_type": "stream",
     "text": [
      "[('item3', '24.5'), ('item2', '15.10'), ('item1', '12.20')]\n"
     ]
    }
   ],
   "source": [
    "Liste = [('item1', '12.20'), ('item2', '15.10'), ('item3', '24.5')]\n",
    "Liste.sort(key=lambda x: float(x[1]), reverse=True)\n",
    "print(Liste)"
   ]
  },
  {
   "cell_type": "code",
   "execution_count": null,
   "id": "bc951889",
   "metadata": {},
   "outputs": [],
   "source": []
  }
 ],
 "metadata": {
  "kernelspec": {
   "display_name": "Python 3 (ipykernel)",
   "language": "python",
   "name": "python3"
  },
  "language_info": {
   "codemirror_mode": {
    "name": "ipython",
    "version": 3
   },
   "file_extension": ".py",
   "mimetype": "text/x-python",
   "name": "python",
   "nbconvert_exporter": "python",
   "pygments_lexer": "ipython3",
   "version": "3.9.12"
  }
 },
 "nbformat": 4,
 "nbformat_minor": 5
}
